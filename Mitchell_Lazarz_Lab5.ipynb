{
  "nbformat": 4,
  "nbformat_minor": 0,
  "metadata": {
    "colab": {
      "name": "Mitchell_Lazarz_Lab5.ipynb",
      "provenance": [],
      "collapsed_sections": [],
      "authorship_tag": "ABX9TyMFP2lkTnMZ7SoQAS2sV9Uv",
      "include_colab_link": true
    },
    "kernelspec": {
      "name": "python3",
      "display_name": "Python 3"
    }
  },
  "cells": [
    {
      "cell_type": "markdown",
      "metadata": {
        "id": "view-in-github",
        "colab_type": "text"
      },
      "source": [
        "<a href=\"https://colab.research.google.com/github/IDCE-MSGIS/lab-5-refugee-stats-using-dictionaries-mlazarz/blob/master/Mitchell_Lazarz_Lab5.ipynb\" target=\"_parent\"><img src=\"https://colab.research.google.com/assets/colab-badge.svg\" alt=\"Open In Colab\"/></a>"
      ]
    },
    {
      "cell_type": "code",
      "metadata": {
        "id": "tdVW848Hrlu2",
        "outputId": "11a155f4-ee93-4208-fd46-878f931cf28e",
        "colab": {
          "base_uri": "https://localhost:8080/",
          "height": 272
        }
      },
      "source": [
        "\"\"\"\n",
        "Author:  Mitchell Lazarz\n",
        "Creation Date: 28 September 2020\n",
        "Version:  Python 3--Google Colab--Jupytor Notebook\n",
        "Description:  This script uses refugee camp population data for 2014 for five \n",
        "countries, Kenya, Jordan, India, Ethiopia, and Djibouti to create a dictionary \n",
        "for refugee population within each country.  The source of this data is the UN \n",
        "Refugee Agency, accessed from Wikipedia. Three functions are created to print \n",
        "information from this dictionary.  First, the country names are printed.  \n",
        "Second, the refugee populations are printed.  And lastly, a statement is printed \n",
        "with both the country and the population followed by the year.\n",
        "\"\"\"\n",
        "\n",
        "# The follow is the list of countries of interest\n",
        "countries_list=[\"Kenya\",\"Jordan\",\"India\",\"Ethiopia\",\"Djibouti\"]\n",
        "\n",
        "# The following lists are populations of refugee camps in 5 countries\n",
        "KenyaCamps_2014pop=[153959,106968,88486,83750,52310,21035]\n",
        "JordanCamps_2014pop=[84773,11315]\n",
        "IndiaCamps_2014pop=[65057]\n",
        "EthiopiaCamps_2014pop=[53218,47711,46314,44645,41665,39471,39214,38890,34090,33235,17808,14279,12965,11075,10171,6106]\n",
        "DjiboutiCamps_2014pop=[18208]\n",
        "\n",
        "# An empty list is created for 2014 refugee populations\n",
        "refugee2014Pop_list=[]\n",
        "\n",
        "# A function is created that adds populations in refugee camps and adds this value to empty list\n",
        "def sumCamps(list): \n",
        "    refugee2014Pop_list.append(sum(list[:]))  # The sum of all values in the list is appended to the empty list\n",
        "sumCamps(KenyaCamps_2014pop)                  # The function is called with Kenya refugee camp populations\n",
        "sumCamps(JordanCamps_2014pop)                 # The function is called with Jordan refugee camp populations\n",
        "sumCamps(IndiaCamps_2014pop)                  # The function is called with India refugee camp populations\n",
        "sumCamps(EthiopiaCamps_2014pop)               # The function is called with Ethiopia refugee camp populations\n",
        "sumCamps(DjiboutiCamps_2014pop)               # The function is called with Djibouti refugee camp populations\n",
        "\n",
        "# A dictionary is created with the country name as the key and the refugee population as the value\n",
        "country_refugee_dict = dict(zip(countries_list,refugee2014Pop_list))\n",
        "\n",
        "# A function is created that prints all country names in the dictionary\n",
        "def countryName(dict):\n",
        "  for country, pop in dict.items(): # For the country (key), population (value) items in the dictionary\n",
        "    print(country)                  # The country (key) is printed\n",
        "countryName(country_refugee_dict)   # The function is called with the country and refugee population dictionary\n",
        "\n",
        "# A function is created that prints all populations in the dictionary\n",
        "def refugeePop(dict):\n",
        "  for country, pop in dict.items(): # For the country (key), population (value) items in the dictionary\n",
        "    print(pop)                      # The population (value) is printed\n",
        "refugeePop(country_refugee_dict)    # The function is called with the country and refugee population dictionary\n",
        "\n",
        "# A function is created that prints a statement with the country name and refugee population\n",
        "def printCountryRefugeePop(dict):\n",
        "  for country, pop in dict.items():               # For the country (key), population (value) items in the dictionary\n",
        "    print(country,\"had\",pop,\"refugees in 2014.\")  # A statement is printed that displays the country and refugee population in 2014\n",
        "printCountryRefugeePop(country_refugee_dict)      # The function is called with the country and refugee population dictionary\n",
        "\n",
        "\n"
      ],
      "execution_count": 71,
      "outputs": [
        {
          "output_type": "stream",
          "text": [
            "Kenya\n",
            "Jordan\n",
            "India\n",
            "Ethiopia\n",
            "Djibouti\n",
            "506508\n",
            "96088\n",
            "65057\n",
            "490857\n",
            "18208\n",
            "Kenya had 506508 refugees in 2014.\n",
            "Jordan had 96088 refugees in 2014.\n",
            "India had 65057 refugees in 2014.\n",
            "Ethiopia had 490857 refugees in 2014.\n",
            "Djibouti had 18208 refugees in 2014.\n"
          ],
          "name": "stdout"
        }
      ]
    }
  ]
}